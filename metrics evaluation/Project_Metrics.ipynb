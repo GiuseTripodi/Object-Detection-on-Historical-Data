{
  "nbformat": 4,
  "nbformat_minor": 0,
  "metadata": {
    "colab": {
      "name": "Project Metrics.ipynb",
      "provenance": [],
      "collapsed_sections": [
        "sVCjBxmKXHHv"
      ]
    },
    "kernelspec": {
      "name": "python3",
      "display_name": "Python 3"
    },
    "language_info": {
      "name": "python"
    }
  },
  "cells": [
    {
      "cell_type": "markdown",
      "source": [
        "# Metrix Evaluation\n",
        "\n",
        "## Information to run the notebook \n",
        "\n",
        "To run the notebook follow the steps:\n",
        "1. clone the repository on you device\n",
        "2. open each notebook on [Google Colab](https://research.google.com/colaboratory/)\n",
        "3. copy on your [Drive google](https://drive.google.com/drive/my-drive) the following directory (The directories must be collocated under the directory \"MyDrive\"):\n",
        "  - dataset\n",
        "  - configuration_file_SUS_project \n",
        "\n",
        "Then you are able to run each notebook without problem.\n",
        "\n",
        "# Run the notebook on custom dataset\n",
        "\n",
        "In order to run the notebook on custom dataset you need to organize the configuration directory in the following way:\n",
        "\n",
        "```\n",
        "dataset\n",
        "└─── original dataset\n",
        "|   |\n",
        "|   └─── images\n",
        "|   |   |\n",
        "|   |   └─── test_dir\n",
        "|   |   └─── train_dir\n",
        "|   |   └─── val_dir\n",
        "|   |\n",
        "|   |\n",
        "|   └─── labels\n",
        "|   |   |\n",
        "|   |   └─── test_dir\n",
        "|   |   └─── train_dir\n",
        "|   |   └─── val_dir\n",
        "\n",
        "```\n",
        "\n",
        "Under images each directory contains all the images used as training, validation and test sets.\n",
        "Under labels each directory contains the labels for each image. \\\\\n",
        "The image and its labels must have the same name."
      ],
      "metadata": {
        "id": "V-AofOJLWakH"
      }
    },
    {
      "cell_type": "markdown",
      "source": [
        "### Support Function"
      ],
      "metadata": {
        "id": "sVCjBxmKXHHv"
      }
    },
    {
      "cell_type": "code",
      "execution_count": 1,
      "metadata": {
        "id": "wNcqA8pAYPBN"
      },
      "outputs": [],
      "source": [
        "def convert_annotations_to_df(ANNOT_PATH, IMAGE_PATH):\n",
        "  #define the category dict\n",
        "  cat_dict = {1 :\"tank\", 2:\"car\", 3:\"truck\",  4:\"boat\", 5:\"airplane\", 6:\"horse trailer\", 7:\"train\", 8:\"motorcycle\" ,  9:\"Unknow\"}\n",
        "\n",
        "  f = open(ANNOT_PATH)\n",
        "  json_ = json.load(f)\n",
        "  df_images = pd.DataFrame.from_dict(json_[\"images\"])\n",
        "  df_annotations = pd.DataFrame.from_dict(json_[\"annotations\"])\n",
        "\n",
        "  # create dataframe with the bounding box information\n",
        "  dt = {}\n",
        "  for index, row in df_annotations.iterrows():\n",
        "    dt[index] = row[\"bbox\"]\n",
        "  df = pd.DataFrame.from_dict(dt, orient=\"index\")\n",
        "  # the column represent = 0:left, 1:top, 2:width, 3:height\n",
        "  # I do the transformation as= 0:x_min, 1:y_min, 2:x_max, 3:y_max\n",
        "  df.rename(columns = {0:\"xmin\", 1:\"ymin\", 2:\"xmax\", 3:\"ymax\"}, inplace= True)\n",
        "\n",
        "  #merge the two dataframe\n",
        "  df_annotations = pd.merge(df_annotations, df, left_index=True, right_index=True)\n",
        "  df_annotations.drop([\"area\", \"segmentation\" , \"iscrowd\", \"bbox\", \"id\"], axis = 1, inplace = True)\n",
        "\n",
        "  #add the category labels information\n",
        "  df_annotations[\"class\"] = df_annotations.apply(lambda row: cat_dict[row[\"category_id\"]], axis=1)\n",
        "\n",
        "  #join the images based on the id column\n",
        "  #df_images = pd.merge(df_annotations, df_images, left_index=True, right_index=True)\n",
        "  df_images = pd.merge(df_annotations, df_images, left_on=\"image_id\", right_on=\"id\")\n",
        "  \n",
        "  #change the filename information to contain the correct directory\n",
        "  dt = {}\n",
        "  for index, row in df_images.iterrows():\n",
        "    dt[index] = f\"{IMAGE_PATH}{row['file_name']}\"\n",
        "  df = pd.DataFrame.from_dict(dt, orient=\"index\")\n",
        "  df_images = pd.merge(df_images, df, left_index=True, right_index=True)\n",
        "\n",
        "\n",
        "  df_images.drop([\"image_id\", \"id\", \"file_name\"], axis = 1, inplace=True)\n",
        "  #modify some column\n",
        "  df_images.rename(columns = {0:\"filename\", \"category_id\":\"labels\"}, inplace=True)\n",
        "\n",
        "  return df_images   "
      ]
    },
    {
      "cell_type": "markdown",
      "source": [
        "## Load the dataset"
      ],
      "metadata": {
        "id": "P9FzBdLcW1tB"
      }
    },
    {
      "cell_type": "code",
      "source": [
        "#Update sys path to include the pytorch RetinaNet modules\n",
        "import warnings\n",
        "import os\n",
        "import sys\n",
        "import json\n",
        "import pandas as pd\n",
        "import json\n",
        "import tensorflow as tf\n",
        "import tensorflow_datasets as tfds\n",
        "from tensorflow.keras import callbacks, metrics\n",
        "\n",
        "import pandas as pd\n",
        "from PIL import Image\n",
        "import cv2\n",
        "import numpy as np"
      ],
      "metadata": {
        "id": "-OqiyPIQXDke"
      },
      "execution_count": 2,
      "outputs": []
    },
    {
      "cell_type": "code",
      "execution_count": 3,
      "metadata": {
        "colab": {
          "base_uri": "https://localhost:8080/"
        },
        "id": "RF5MQLpGWUlQ",
        "outputId": "d4b250d5-1701-45c0-e44f-076450b343ee"
      },
      "outputs": [
        {
          "output_type": "stream",
          "name": "stdout",
          "text": [
            "Mounted at /content/gdrive\n"
          ]
        }
      ],
      "source": [
        "#connect to google drive and get the  dataset\n",
        "from google.colab import drive\n",
        "drive.mount(\"/content/gdrive\")"
      ]
    },
    {
      "cell_type": "code",
      "execution_count": 4,
      "metadata": {
        "id": "0GXonHMFYSkl"
      },
      "outputs": [],
      "source": [
        "#Path to where the Images are stored\n",
        "TRAIN_IMAGE_PATH = \"/content/train/\"\n",
        "VALID_IMAGE_PATH = \"/content/valid/\"\n",
        "TEST_IMAGE_PATH  = \"/content/test/\"\n",
        "\n",
        "train_annotations_json_file = \"/content/gdrive/MyDrive/configuration_file_SUS_project/YOLOX/train2017.json\"\n",
        "test_annotations_json_file = \"/content/gdrive/MyDrive/configuration_file_SUS_project/YOLOX/test2017.json\"\n",
        "val_annotations_json_file = \"/content/gdrive/MyDrive/configuration_file_SUS_project/YOLOX/val2017.json\"\n",
        "\n",
        "#convert JSON files to pandas DataFrames\n",
        "train_df = convert_annotations_to_df(train_annotations_json_file,TRAIN_IMAGE_PATH  )\n",
        "valid_df = convert_annotations_to_df(val_annotations_json_file, VALID_IMAGE_PATH)\n",
        "test_df  = convert_annotations_to_df(test_annotations_json_file, TEST_IMAGE_PATH )\n"
      ]
    },
    {
      "cell_type": "code",
      "source": [
        "def remove_invalid_annots(df):\n",
        "    \"\"\"\n",
        "    Removes annotations where xmax, ymax < xmin,ymin\n",
        "    from the given dataframe\n",
        "    \"\"\"\n",
        "    df = df[df.xmax > df.xmin]\n",
        "    df = df[df.ymax > df.ymin]\n",
        "    df.reset_index(inplace=True, drop=True)\n",
        "    return df\n",
        "\n",
        "# removing annotations that are not valid annotations\n",
        "train_df = remove_invalid_annots(train_df)\n",
        "valid_df = remove_invalid_annots(valid_df)\n",
        "test_df  = remove_invalid_annots(test_df)"
      ],
      "metadata": {
        "id": "5coW-6EHXT_I"
      },
      "execution_count": 5,
      "outputs": []
    },
    {
      "cell_type": "code",
      "source": [
        "train_df.info()"
      ],
      "metadata": {
        "colab": {
          "base_uri": "https://localhost:8080/"
        },
        "id": "YP58K9rJXXDy",
        "outputId": "508e66cf-60d1-4014-d0e1-e836a184ea2f"
      },
      "execution_count": 6,
      "outputs": [
        {
          "output_type": "stream",
          "name": "stdout",
          "text": [
            "<class 'pandas.core.frame.DataFrame'>\n",
            "RangeIndex: 611 entries, 0 to 610\n",
            "Data columns (total 9 columns):\n",
            " #   Column    Non-Null Count  Dtype  \n",
            "---  ------    --------------  -----  \n",
            " 0   labels    611 non-null    int64  \n",
            " 1   xmin      611 non-null    float64\n",
            " 2   ymin      611 non-null    float64\n",
            " 3   xmax      611 non-null    float64\n",
            " 4   ymax      611 non-null    float64\n",
            " 5   class     611 non-null    object \n",
            " 6   height    611 non-null    int64  \n",
            " 7   width     611 non-null    int64  \n",
            " 8   filename  611 non-null    object \n",
            "dtypes: float64(4), int64(3), object(2)\n",
            "memory usage: 43.1+ KB\n"
          ]
        }
      ]
    },
    {
      "cell_type": "code",
      "source": [
        "test_df.info()"
      ],
      "metadata": {
        "colab": {
          "base_uri": "https://localhost:8080/"
        },
        "id": "iP07oizKZuSL",
        "outputId": "79bc0765-cedf-4c00-af66-7f819b435406"
      },
      "execution_count": 7,
      "outputs": [
        {
          "output_type": "stream",
          "name": "stdout",
          "text": [
            "<class 'pandas.core.frame.DataFrame'>\n",
            "RangeIndex: 253 entries, 0 to 252\n",
            "Data columns (total 9 columns):\n",
            " #   Column    Non-Null Count  Dtype  \n",
            "---  ------    --------------  -----  \n",
            " 0   labels    253 non-null    int64  \n",
            " 1   xmin      253 non-null    float64\n",
            " 2   ymin      253 non-null    float64\n",
            " 3   xmax      253 non-null    float64\n",
            " 4   ymax      253 non-null    float64\n",
            " 5   class     253 non-null    object \n",
            " 6   height    253 non-null    int64  \n",
            " 7   width     253 non-null    int64  \n",
            " 8   filename  253 non-null    object \n",
            "dtypes: float64(4), int64(3), object(2)\n",
            "memory usage: 17.9+ KB\n"
          ]
        }
      ]
    },
    {
      "cell_type": "code",
      "source": [
        "valid_df.info()"
      ],
      "metadata": {
        "colab": {
          "base_uri": "https://localhost:8080/"
        },
        "id": "J20HWGuwZxDl",
        "outputId": "868124dc-42ff-4a69-b38a-712becb99e0d"
      },
      "execution_count": 8,
      "outputs": [
        {
          "output_type": "stream",
          "name": "stdout",
          "text": [
            "<class 'pandas.core.frame.DataFrame'>\n",
            "RangeIndex: 215 entries, 0 to 214\n",
            "Data columns (total 9 columns):\n",
            " #   Column    Non-Null Count  Dtype  \n",
            "---  ------    --------------  -----  \n",
            " 0   labels    215 non-null    int64  \n",
            " 1   xmin      215 non-null    float64\n",
            " 2   ymin      215 non-null    float64\n",
            " 3   xmax      215 non-null    float64\n",
            " 4   ymax      215 non-null    float64\n",
            " 5   class     215 non-null    object \n",
            " 6   height    215 non-null    int64  \n",
            " 7   width     215 non-null    int64  \n",
            " 8   filename  215 non-null    object \n",
            "dtypes: float64(4), int64(3), object(2)\n",
            "memory usage: 15.2+ KB\n"
          ]
        }
      ]
    },
    {
      "cell_type": "code",
      "source": [
        "df = pd.concat([train_df, test_df, valid_df])\n",
        "df"
      ],
      "metadata": {
        "colab": {
          "base_uri": "https://localhost:8080/",
          "height": 424
        },
        "id": "gb71SmBoXaXD",
        "outputId": "032d7312-f5db-4be3-a571-f72020169491"
      },
      "execution_count": 9,
      "outputs": [
        {
          "output_type": "execute_result",
          "data": {
            "text/plain": [
              "     labels         xmin        ymin         xmax         ymax     class  \\\n",
              "0         1    54.937849  142.074880  1436.645273  1021.090927      tank   \n",
              "1         5   310.040080  455.101622  1314.288665  1080.000000  airplane   \n",
              "2         2   394.304644  571.764706   901.046057   972.577593       car   \n",
              "3         2   111.498989  384.641702  1091.507067  1029.176453       car   \n",
              "4         2  1003.779542  398.502674  1268.116321   780.834207       car   \n",
              "..      ...          ...         ...          ...          ...       ...   \n",
              "210       3   161.855716  614.502727   704.380766   988.748645     truck   \n",
              "211       3   171.703407  366.737968   657.955912   548.663102     truck   \n",
              "212       3   779.158317  388.106978  1070.621242   498.128342     truck   \n",
              "213       3  1185.727424  378.866301  1244.597234   437.775419     truck   \n",
              "214       2  1191.498967  232.171127  1378.497104   325.732629       car   \n",
              "\n",
              "     height  width                                           filename  \n",
              "0      1080   1440  /content/train/8446_(NARA_LID-208-UN-0147_FGMC...  \n",
              "1      1080   1440  /content/train/8446_(NARA_LID-208-UN-0147_FGMC...  \n",
              "2      1080   1440  /content/train/8445_(NARA_LID-200-UN-V18-R441-...  \n",
              "3      1080   1440  /content/train/8445_(NARA_LID-200-UN-V18-R441-...  \n",
              "4      1080   1440  /content/train/8445_(NARA_LID-200-UN-V18-R441-...  \n",
              "..      ...    ...                                                ...  \n",
              "210    1080   1440  /content/valid/8332_(NARA_LID-111-ADC-1281_DNS...  \n",
              "211    1080   1440  /content/valid/8332_(NARA_LID-111-ADC-1281_DNS...  \n",
              "212    1080   1440  /content/valid/8332_(NARA_LID-111-ADC-1281_DNS...  \n",
              "213    1080   1440  /content/valid/8332_(NARA_LID-111-ADC-1281_DNS...  \n",
              "214    1080   1440  /content/valid/8332_(NARA_LID-111-ADC-1281_DNS...  \n",
              "\n",
              "[1079 rows x 9 columns]"
            ],
            "text/html": [
              "\n",
              "  <div id=\"df-b43b022f-13fb-405e-9ac2-d840d676a900\">\n",
              "    <div class=\"colab-df-container\">\n",
              "      <div>\n",
              "<style scoped>\n",
              "    .dataframe tbody tr th:only-of-type {\n",
              "        vertical-align: middle;\n",
              "    }\n",
              "\n",
              "    .dataframe tbody tr th {\n",
              "        vertical-align: top;\n",
              "    }\n",
              "\n",
              "    .dataframe thead th {\n",
              "        text-align: right;\n",
              "    }\n",
              "</style>\n",
              "<table border=\"1\" class=\"dataframe\">\n",
              "  <thead>\n",
              "    <tr style=\"text-align: right;\">\n",
              "      <th></th>\n",
              "      <th>labels</th>\n",
              "      <th>xmin</th>\n",
              "      <th>ymin</th>\n",
              "      <th>xmax</th>\n",
              "      <th>ymax</th>\n",
              "      <th>class</th>\n",
              "      <th>height</th>\n",
              "      <th>width</th>\n",
              "      <th>filename</th>\n",
              "    </tr>\n",
              "  </thead>\n",
              "  <tbody>\n",
              "    <tr>\n",
              "      <th>0</th>\n",
              "      <td>1</td>\n",
              "      <td>54.937849</td>\n",
              "      <td>142.074880</td>\n",
              "      <td>1436.645273</td>\n",
              "      <td>1021.090927</td>\n",
              "      <td>tank</td>\n",
              "      <td>1080</td>\n",
              "      <td>1440</td>\n",
              "      <td>/content/train/8446_(NARA_LID-208-UN-0147_FGMC...</td>\n",
              "    </tr>\n",
              "    <tr>\n",
              "      <th>1</th>\n",
              "      <td>5</td>\n",
              "      <td>310.040080</td>\n",
              "      <td>455.101622</td>\n",
              "      <td>1314.288665</td>\n",
              "      <td>1080.000000</td>\n",
              "      <td>airplane</td>\n",
              "      <td>1080</td>\n",
              "      <td>1440</td>\n",
              "      <td>/content/train/8446_(NARA_LID-208-UN-0147_FGMC...</td>\n",
              "    </tr>\n",
              "    <tr>\n",
              "      <th>2</th>\n",
              "      <td>2</td>\n",
              "      <td>394.304644</td>\n",
              "      <td>571.764706</td>\n",
              "      <td>901.046057</td>\n",
              "      <td>972.577593</td>\n",
              "      <td>car</td>\n",
              "      <td>1080</td>\n",
              "      <td>1440</td>\n",
              "      <td>/content/train/8445_(NARA_LID-200-UN-V18-R441-...</td>\n",
              "    </tr>\n",
              "    <tr>\n",
              "      <th>3</th>\n",
              "      <td>2</td>\n",
              "      <td>111.498989</td>\n",
              "      <td>384.641702</td>\n",
              "      <td>1091.507067</td>\n",
              "      <td>1029.176453</td>\n",
              "      <td>car</td>\n",
              "      <td>1080</td>\n",
              "      <td>1440</td>\n",
              "      <td>/content/train/8445_(NARA_LID-200-UN-V18-R441-...</td>\n",
              "    </tr>\n",
              "    <tr>\n",
              "      <th>4</th>\n",
              "      <td>2</td>\n",
              "      <td>1003.779542</td>\n",
              "      <td>398.502674</td>\n",
              "      <td>1268.116321</td>\n",
              "      <td>780.834207</td>\n",
              "      <td>car</td>\n",
              "      <td>1080</td>\n",
              "      <td>1440</td>\n",
              "      <td>/content/train/8445_(NARA_LID-200-UN-V18-R441-...</td>\n",
              "    </tr>\n",
              "    <tr>\n",
              "      <th>...</th>\n",
              "      <td>...</td>\n",
              "      <td>...</td>\n",
              "      <td>...</td>\n",
              "      <td>...</td>\n",
              "      <td>...</td>\n",
              "      <td>...</td>\n",
              "      <td>...</td>\n",
              "      <td>...</td>\n",
              "      <td>...</td>\n",
              "    </tr>\n",
              "    <tr>\n",
              "      <th>210</th>\n",
              "      <td>3</td>\n",
              "      <td>161.855716</td>\n",
              "      <td>614.502727</td>\n",
              "      <td>704.380766</td>\n",
              "      <td>988.748645</td>\n",
              "      <td>truck</td>\n",
              "      <td>1080</td>\n",
              "      <td>1440</td>\n",
              "      <td>/content/valid/8332_(NARA_LID-111-ADC-1281_DNS...</td>\n",
              "    </tr>\n",
              "    <tr>\n",
              "      <th>211</th>\n",
              "      <td>3</td>\n",
              "      <td>171.703407</td>\n",
              "      <td>366.737968</td>\n",
              "      <td>657.955912</td>\n",
              "      <td>548.663102</td>\n",
              "      <td>truck</td>\n",
              "      <td>1080</td>\n",
              "      <td>1440</td>\n",
              "      <td>/content/valid/8332_(NARA_LID-111-ADC-1281_DNS...</td>\n",
              "    </tr>\n",
              "    <tr>\n",
              "      <th>212</th>\n",
              "      <td>3</td>\n",
              "      <td>779.158317</td>\n",
              "      <td>388.106978</td>\n",
              "      <td>1070.621242</td>\n",
              "      <td>498.128342</td>\n",
              "      <td>truck</td>\n",
              "      <td>1080</td>\n",
              "      <td>1440</td>\n",
              "      <td>/content/valid/8332_(NARA_LID-111-ADC-1281_DNS...</td>\n",
              "    </tr>\n",
              "    <tr>\n",
              "      <th>213</th>\n",
              "      <td>3</td>\n",
              "      <td>1185.727424</td>\n",
              "      <td>378.866301</td>\n",
              "      <td>1244.597234</td>\n",
              "      <td>437.775419</td>\n",
              "      <td>truck</td>\n",
              "      <td>1080</td>\n",
              "      <td>1440</td>\n",
              "      <td>/content/valid/8332_(NARA_LID-111-ADC-1281_DNS...</td>\n",
              "    </tr>\n",
              "    <tr>\n",
              "      <th>214</th>\n",
              "      <td>2</td>\n",
              "      <td>1191.498967</td>\n",
              "      <td>232.171127</td>\n",
              "      <td>1378.497104</td>\n",
              "      <td>325.732629</td>\n",
              "      <td>car</td>\n",
              "      <td>1080</td>\n",
              "      <td>1440</td>\n",
              "      <td>/content/valid/8332_(NARA_LID-111-ADC-1281_DNS...</td>\n",
              "    </tr>\n",
              "  </tbody>\n",
              "</table>\n",
              "<p>1079 rows × 9 columns</p>\n",
              "</div>\n",
              "      <button class=\"colab-df-convert\" onclick=\"convertToInteractive('df-b43b022f-13fb-405e-9ac2-d840d676a900')\"\n",
              "              title=\"Convert this dataframe to an interactive table.\"\n",
              "              style=\"display:none;\">\n",
              "        \n",
              "  <svg xmlns=\"http://www.w3.org/2000/svg\" height=\"24px\"viewBox=\"0 0 24 24\"\n",
              "       width=\"24px\">\n",
              "    <path d=\"M0 0h24v24H0V0z\" fill=\"none\"/>\n",
              "    <path d=\"M18.56 5.44l.94 2.06.94-2.06 2.06-.94-2.06-.94-.94-2.06-.94 2.06-2.06.94zm-11 1L8.5 8.5l.94-2.06 2.06-.94-2.06-.94L8.5 2.5l-.94 2.06-2.06.94zm10 10l.94 2.06.94-2.06 2.06-.94-2.06-.94-.94-2.06-.94 2.06-2.06.94z\"/><path d=\"M17.41 7.96l-1.37-1.37c-.4-.4-.92-.59-1.43-.59-.52 0-1.04.2-1.43.59L10.3 9.45l-7.72 7.72c-.78.78-.78 2.05 0 2.83L4 21.41c.39.39.9.59 1.41.59.51 0 1.02-.2 1.41-.59l7.78-7.78 2.81-2.81c.8-.78.8-2.07 0-2.86zM5.41 20L4 18.59l7.72-7.72 1.47 1.35L5.41 20z\"/>\n",
              "  </svg>\n",
              "      </button>\n",
              "      \n",
              "  <style>\n",
              "    .colab-df-container {\n",
              "      display:flex;\n",
              "      flex-wrap:wrap;\n",
              "      gap: 12px;\n",
              "    }\n",
              "\n",
              "    .colab-df-convert {\n",
              "      background-color: #E8F0FE;\n",
              "      border: none;\n",
              "      border-radius: 50%;\n",
              "      cursor: pointer;\n",
              "      display: none;\n",
              "      fill: #1967D2;\n",
              "      height: 32px;\n",
              "      padding: 0 0 0 0;\n",
              "      width: 32px;\n",
              "    }\n",
              "\n",
              "    .colab-df-convert:hover {\n",
              "      background-color: #E2EBFA;\n",
              "      box-shadow: 0px 1px 2px rgba(60, 64, 67, 0.3), 0px 1px 3px 1px rgba(60, 64, 67, 0.15);\n",
              "      fill: #174EA6;\n",
              "    }\n",
              "\n",
              "    [theme=dark] .colab-df-convert {\n",
              "      background-color: #3B4455;\n",
              "      fill: #D2E3FC;\n",
              "    }\n",
              "\n",
              "    [theme=dark] .colab-df-convert:hover {\n",
              "      background-color: #434B5C;\n",
              "      box-shadow: 0px 1px 3px 1px rgba(0, 0, 0, 0.15);\n",
              "      filter: drop-shadow(0px 1px 2px rgba(0, 0, 0, 0.3));\n",
              "      fill: #FFFFFF;\n",
              "    }\n",
              "  </style>\n",
              "\n",
              "      <script>\n",
              "        const buttonEl =\n",
              "          document.querySelector('#df-b43b022f-13fb-405e-9ac2-d840d676a900 button.colab-df-convert');\n",
              "        buttonEl.style.display =\n",
              "          google.colab.kernel.accessAllowed ? 'block' : 'none';\n",
              "\n",
              "        async function convertToInteractive(key) {\n",
              "          const element = document.querySelector('#df-b43b022f-13fb-405e-9ac2-d840d676a900');\n",
              "          const dataTable =\n",
              "            await google.colab.kernel.invokeFunction('convertToInteractive',\n",
              "                                                     [key], {});\n",
              "          if (!dataTable) return;\n",
              "\n",
              "          const docLinkHtml = 'Like what you see? Visit the ' +\n",
              "            '<a target=\"_blank\" href=https://colab.research.google.com/notebooks/data_table.ipynb>data table notebook</a>'\n",
              "            + ' to learn more about interactive tables.';\n",
              "          element.innerHTML = '';\n",
              "          dataTable['output_type'] = 'display_data';\n",
              "          await google.colab.output.renderOutput(dataTable, element);\n",
              "          const docLink = document.createElement('div');\n",
              "          docLink.innerHTML = docLinkHtml;\n",
              "          element.appendChild(docLink);\n",
              "        }\n",
              "      </script>\n",
              "    </div>\n",
              "  </div>\n",
              "  "
            ]
          },
          "metadata": {},
          "execution_count": 9
        }
      ]
    },
    {
      "cell_type": "markdown",
      "source": [
        "## Metrix Evalutation\n",
        "\n",
        "I am going to get:\n",
        "1. number of lebel for each class"
      ],
      "metadata": {
        "id": "z814U-zKZ8cb"
      }
    },
    {
      "cell_type": "markdown",
      "source": [
        "### number of label per class"
      ],
      "metadata": {
        "id": "q_G88dSzeCrI"
      }
    },
    {
      "cell_type": "code",
      "source": [
        "cat_dict = {1 :\"tank\", 2:\"car\", 3:\"truck\",  4:\"boat\", 5:\"airplane\", 6:\"horse trailer\", 7:\"train\", 8:\"motorcycle\" ,  9:\"Unknow\"}\n",
        "class_num = {}\n",
        "\n",
        "for i in range(len(cat_dict)):\n",
        "  class_num[cat_dict[i + 1]] = len(df[df['labels'] == (i+1)])\n",
        "\n",
        "class_num\n"
      ],
      "metadata": {
        "colab": {
          "base_uri": "https://localhost:8080/"
        },
        "id": "epJvVrurcsP-",
        "outputId": "1a0dc222-28ad-4083-acac-69bab8aee01d"
      },
      "execution_count": null,
      "outputs": [
        {
          "output_type": "execute_result",
          "data": {
            "text/plain": [
              "{'Unknow': 0,\n",
              " 'airplane': 388,\n",
              " 'boat': 74,\n",
              " 'car': 237,\n",
              " 'horse trailer': 57,\n",
              " 'motorcycle': 3,\n",
              " 'tank': 196,\n",
              " 'train': 20,\n",
              " 'truck': 104}"
            ]
          },
          "metadata": {},
          "execution_count": 16
        }
      ]
    },
    {
      "cell_type": "code",
      "source": [
        "df_class = pd.DataFrame.from_dict(class_num, orient=\"index\")\n"
      ],
      "metadata": {
        "colab": {
          "base_uri": "https://localhost:8080/"
        },
        "id": "oIVUdFvBeNL0",
        "outputId": "3b5f1c81-8c59-425e-8d9f-eadd24f6efda"
      },
      "execution_count": null,
      "outputs": [
        {
          "output_type": "execute_result",
          "data": {
            "text/plain": [
              "dict_keys(['tank', 'car', 'truck', 'boat', 'airplane', 'horse trailer', 'train', 'motorcycle', 'Unknow'])"
            ]
          },
          "metadata": {},
          "execution_count": 42
        }
      ]
    },
    {
      "cell_type": "code",
      "source": [
        "plot = df_class.plot.pie(subplots=True, figsize=(12,8 ))"
      ],
      "metadata": {
        "colab": {
          "base_uri": "https://localhost:8080/",
          "height": 466
        },
        "id": "9uUzgmtCecj4",
        "outputId": "aa6c9081-b654-47b1-ffc0-60cca1819a82"
      },
      "execution_count": null,
      "outputs": [
        {
          "output_type": "display_data",
          "data": {
            "text/plain": [
              "<Figure size 864x576 with 1 Axes>"
            ],
            "image/png": "[encoded data removed]"
          },
          "metadata": {}
        }
      ]
    },
    {
      "cell_type": "code",
      "source": [
        "plot = df_class.plot.bar(subplots=True, figsize=(12,8 ), rot=0)"
      ],
      "metadata": {
        "colab": {
          "base_uri": "https://localhost:8080/",
          "height": 499
        },
        "outputId": "7f2c6ec5-ca61-4520-b1cc-055bf29864fd",
        "id": "SC749uKCgKz1"
      },
      "execution_count": null,
      "outputs": [
        {
          "output_type": "display_data",
          "data": {
            "text/plain": [
              "<Figure size 864x576 with 1 Axes>"
            ],
            "image/png": "[encoded data removed]"
          },
          "metadata": {
            "needs_background": "light"
          }
        }
      ]
    }
  ]
}